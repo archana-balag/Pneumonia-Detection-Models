{
 "cells": [
  {
   "cell_type": "markdown",
   "id": "4c47643e",
   "metadata": {},
   "source": [
    "### Counting Images in Training and Testing Sets\n",
    "\n",
    "In the grand adventure of machine learning, data is my trusty sidekick. This code helps me count the number of images in my training and testing datasets—because who doesn't love a good tally?\n",
    "\n",
    "First, I import the `os` module to navigate my file directories like a pro. Essential stuff! Then, I define where my data lives—`train_dir` for training and `test_dir` for testing. Think of it as choosing my battlefield.\n",
    "\n",
    "Next, I count the images in each class (Normal and Pneumonia) for training. After all, I can’t train a model on an empty stomach... I mean, dataset! I do a similar deal for the testing set because I need enough images to properly test my model, just like giving a student a surprise quiz to check their knowledge.\n",
    "\n",
    "Finally, I print the counts in an easy-to-read format, giving me a quick overview of my dataset. It’s like getting a report card, but for images!\n",
    "\n",
    "By keeping tabs on these counts, I ensure my model has a fair shot at success. Here’s to my dataset—may it lead me to better predictions!"
   ]
  },
  {
   "cell_type": "code",
   "execution_count": 1,
   "id": "dd994f73",
   "metadata": {},
   "outputs": [
    {
     "name": "stdout",
     "output_type": "stream",
     "text": [
      "Training Set - Normal: 1342, Pneumonia: 3876\n",
      "Test Set - Normal: 234, Pneumonia: 390\n"
     ]
    }
   ],
   "source": [
    "import os\n",
    "\n",
    "# Define paths\n",
    "train_dir = 'Train'\n",
    "test_dir = 'Test'\n",
    "\n",
    "# Count the number of images in each class in the training set\n",
    "train_normal_count = len(os.listdir(os.path.join(train_dir, 'NORMAL')))\n",
    "train_pneumonia_count = len(os.listdir(os.path.join(train_dir, 'PNEUMONIA')))\n",
    "\n",
    "# Count the number of images in each class in the test set\n",
    "test_normal_count = len(os.listdir(os.path.join(test_dir, 'NORMAL')))\n",
    "test_pneumonia_count = len(os.listdir(os.path.join(test_dir, 'PNEUMONIA')))\n",
    "\n",
    "# Print the counts\n",
    "print(f\"Training Set - Normal: {train_normal_count}, Pneumonia: {train_pneumonia_count}\")\n",
    "print(f\"Test Set - Normal: {test_normal_count}, Pneumonia: {test_pneumonia_count}\")"
   ]
  },
  {
   "cell_type": "markdown",
   "id": "6389c5c4",
   "metadata": {},
   "source": [
    "### Calculating Image Proportions in Training and Testing Sets\n",
    "\n",
    "Now that I know how many images I have, it's time to figure out the proportions. After all, I need to see if my dataset is balanced, or if it’s favoring one class like a teacher’s pet!\n",
    "\n",
    "First, I calculate the total number of images in both the training and testing sets. This is where I add up the counts of Normal and Pneumonia images, because who doesn’t love a good sum?\n",
    "\n",
    "Next, I calculate the class proportions for each set. I divide the count of Normal and Pneumonia images by the total number of images and then multiply by 100 to get a nice percentage. This gives me the proportions for the training set and the testing set, making it super easy to visualize how my dataset is split.\n",
    "\n",
    "Finally, I print the proportions with two decimal places, so I can see the exact distribution of classes. This helps me determine if I need to balance my dataset or if I’m ready to train my model without a lopsided view of the world. It’s like checking the ingredients before baking a cake—too much of one thing can spoil the fun!"
   ]
  },
  {
   "cell_type": "code",
   "execution_count": 2,
   "id": "23fba8b6",
   "metadata": {},
   "outputs": [
    {
     "name": "stdout",
     "output_type": "stream",
     "text": [
      "Training Set - Normal: 25.72%, Pneumonia: 74.28%\n",
      "Test Set - Normal: 37.50%, Pneumonia: 62.50%\n"
     ]
    }
   ],
   "source": [
    "# Calculate total images in training and test sets\n",
    "total_train_images = train_normal_count + train_pneumonia_count\n",
    "total_test_images = test_normal_count + test_pneumonia_count\n",
    "\n",
    "# Calculate class proportions\n",
    "train_normal_proportion = train_normal_count / total_train_images * 100\n",
    "train_pneumonia_proportion = train_pneumonia_count / total_train_images * 100\n",
    "\n",
    "test_normal_proportion = test_normal_count / total_test_images * 100\n",
    "test_pneumonia_proportion = test_pneumonia_count / total_test_images * 100\n",
    "\n",
    "# Print the proportions\n",
    "print(f\"Training Set - Normal: {train_normal_proportion:.2f}%, Pneumonia: {train_pneumonia_proportion:.2f}%\")\n",
    "print(f\"Test Set - Normal: {test_normal_proportion:.2f}%, Pneumonia: {test_pneumonia_proportion:.2f}%\")"
   ]
  },
  {
   "cell_type": "markdown",
   "id": "2f5dce26",
   "metadata": {},
   "source": [
    "### Data Augmentation: Because More Data Is Always Better!\n",
    "\n",
    "In this code, I'm using `ImageDataGenerator` from TensorFlow to jazz up my training data. \n",
    "\n",
    "1. **Normalization**: \n",
    "   - `rescale=1.0/255.0`: I turn those pixel values from a party of 0-255 to a classy 0-1 range. Who knew pixels could be so refined?\n",
    "\n",
    "2. **Random Transformations**: \n",
    "   - **Rotation**: `rotation_range=20`: I rotate images by up to 20 degrees. Let’s pretend my patients have a taste for the dramatic!\n",
    "   - **Shifts**: `width_shift_range=0.1` & `height_shift_range=0.1`: I shift images horizontally and vertically by 10%. Because nothing says “realistic” like a sideways chest X-ray!\n",
    "   - **Shear**: `shear_range=0.2`: I slant those images a bit—why not?\n",
    "   - **Zoom**: `zoom_range=0.2`: Let’s get a closer look at those lungs—no need to be shy!\n",
    "   - **Flip**: `horizontal_flip=True`: I flip images horizontally. Apparently, pneumonia can appear from both sides!\n",
    "\n",
    "3. **Test Set**: \n",
    "   - `test_datagen`: Just a plain rescaling here. I want my test images to be well-behaved—no party tricks allowed!\n",
    "\n",
    "In short, this is how I make sure my model doesn't just memorize the training data but learns to recognize pneumonia like a pro, no matter how the images decide to pose!"
   ]
  },
  {
   "cell_type": "code",
   "execution_count": 3,
   "id": "3e59b13b",
   "metadata": {},
   "outputs": [],
   "source": [
    "from tensorflow.keras.preprocessing.image import ImageDataGenerator\n",
    "\n",
    "# Define data augmentation for the training set\n",
    "train_datagen = ImageDataGenerator(\n",
    "    rescale=1.0/255.0,       # Normalize pixel values to [0, 1]\n",
    "    rotation_range=20,       # Randomly rotate images in the range (degrees)\n",
    "    width_shift_range=0.1,   # Randomly shift images horizontally\n",
    "    height_shift_range=0.1,  # Randomly shift images vertically\n",
    "    shear_range=0.2,        # Shear angle in counter-clockwise direction in degrees\n",
    "    zoom_range=0.2,         # Randomly zoom into images\n",
    "    horizontal_flip=True,    # Randomly flip images\n",
    "    fill_mode='nearest'      # Fill in newly created pixels\n",
    ")\n",
    "\n",
    "# Define data generator for the test set (only rescaling)\n",
    "test_datagen = ImageDataGenerator(rescale=1.0/255.0)"
   ]
  },
  {
   "cell_type": "markdown",
   "id": "0d1ded5f",
   "metadata": {},
   "source": [
    "### Custom Data Generator: Making Class Imbalance a Little Less Painful\n",
    "\n",
    "In this code, I'm crafting a custom data generator to handle my training and testing data while keeping class weights in mind. Because let's face it, class imbalance is like that friend who always shows up uninvited!\n",
    "\n",
    "1. **Imports**:\n",
    "   - `import numpy as np`: Just a little NumPy magic for handling arrays.\n",
    "   - `from tensorflow.keras.preprocessing.image import ImageDataGenerator`: Using TensorFlow's `ImageDataGenerator` for image processing. It’s like my secret weapon for data augmentation!\n",
    "   - `from tensorflow.keras.callbacks import EarlyStopping, ReduceLROnPlateau`: I’m ready with callbacks to keep my model in check during training.\n",
    "\n",
    "2. **Custom Data Generator Class**:\n",
    "   - `class CustomDataGenerator`: This class takes in a generator and class weights, allowing me to create batches that consider class imbalance.\n",
    "   - `__init__`: Initializes the generator and class weights—because starting strong is key!\n",
    "   - `flow()`: This method runs an infinite loop:\n",
    "     - **Batch Retrieval**: It fetches the next batch of images and labels from the original generator.\n",
    "     - **Weights Calculation**: I create a weights array based on the labels. This way, I can help the model pay more attention to the underrepresented class—like giving extra snacks to the shy kid at the party!\n",
    "\n",
    "3. **Class Weights**:\n",
    "   - `class_weights = {0: 1.0, 1: train_normal_count / train_pneumonia_count}`: Here, I define class weights to give the pneumonia class a boost. Because, let’s be honest, it needs all the help it can get!\n",
    "\n",
    "4. **Test Generator**:\n",
    "   - `test_gen`: I create a test generator with no shenanigans—just resizing images and keeping them in order. \n",
    "\n",
    "5. **Training Generator**:\n",
    "   - `train_gen`: I set up my training generator with the `train_datagen` to feed images to my model while maintaining a fun random shuffle.\n",
    "\n",
    "6. **Total Steps Calculation**:\n",
    "   - Using `math.ceil`, I calculate how many steps I'll take during training and testing. This ensures I’m not left high and dry without the correct number of batches!\n",
    "\n",
    "And that’s it! This custom data generator is like my trusty sidekick, making sure the model learns properly and doesn’t get too cozy with any particular class!"
   ]
  },
  {
   "cell_type": "code",
   "execution_count": 4,
   "id": "8be94330",
   "metadata": {},
   "outputs": [
    {
     "name": "stdout",
     "output_type": "stream",
     "text": [
      "Found 624 images belonging to 2 classes.\n",
      "Found 5216 images belonging to 2 classes.\n"
     ]
    }
   ],
   "source": [
    "import numpy as np\n",
    "from tensorflow.keras.preprocessing.image import ImageDataGenerator\n",
    "from tensorflow.keras.callbacks import EarlyStopping, ReduceLROnPlateau\n",
    "\n",
    "class CustomDataGenerator:\n",
    "    def __init__(self, generator, class_weights):\n",
    "        self.generator = generator\n",
    "        self.class_weights = class_weights\n",
    "\n",
    "    def flow(self):\n",
    "        while True:\n",
    "            # Get the next batch of data\n",
    "            x, y = self.generator.__next__()\n",
    "\n",
    "            # Create a weights array based on the labels\n",
    "            # Make sure to round the labels to get the correct indices\n",
    "            weights = np.array([self.class_weights[int(label)] for label in y])\n",
    "\n",
    "            yield x, (y, weights)\n",
    "\n",
    "# Define the class weights\n",
    "class_weights = {0: 1.0, 1: train_normal_count / train_pneumonia_count}\n",
    "\n",
    "test_gen = test_datagen.flow_from_directory(\n",
    "    test_dir,\n",
    "    target_size=(224, 224),  # Resize images to 224x224\n",
    "    batch_size=32,\n",
    "    class_mode='binary',      # Binary classification\n",
    "    shuffle=False\n",
    ")\n",
    "\n",
    "# Use the existing train_datagen and test_datagen to create generators\n",
    "train_gen = train_datagen.flow_from_directory(\n",
    "    train_dir,\n",
    "    target_size=(224, 224),\n",
    "    batch_size=32,\n",
    "    class_mode='binary',\n",
    "    shuffle=True\n",
    ")\n",
    "\n",
    "# Create the custom generator\n",
    "custom_train_gen = CustomDataGenerator(train_gen, class_weights)\n",
    "\n",
    "import math\n",
    "# Calculate total images in each generator\n",
    "train_steps = math.ceil(train_gen.samples / train_gen.batch_size)\n",
    "test_steps = math.ceil(test_gen.samples / test_gen.batch_size)"
   ]
  },
  {
   "cell_type": "markdown",
   "id": "e7c2ec23",
   "metadata": {},
   "source": [
    "### Building a VGG16 Model: The Elegant Approach to Pneumonia Detection\n",
    "\n",
    "In this code snippet, I'm setting up a VGG16 model to tackle the pneumonia detection challenge. Let’s break down the components in a not-so-boring way:\n",
    "\n",
    "1. **Imports**:\n",
    "   - `import tensorflow as tf`: Importing TensorFlow, the backbone of my deep learning adventures!\n",
    "   - `from tensorflow.keras.applications import VGG16`: Bringing in the pre-trained VGG16 model because who doesn’t love a good shortcut?\n",
    "   - `from tensorflow.keras.models import Sequential`: I’m going for a straightforward model architecture.\n",
    "   - `from tensorflow.keras.layers import Flatten, Dense, Dropout`: Adding some layers to spice things up—flattening the output, making dense connections, and sprinkling in dropout for regularization.\n",
    "   - `from tensorflow.keras.callbacks import EarlyStopping, ReduceLROnPlateau`: Just in case I need to rein in my model during training!\n",
    "\n",
    "2. **Class Weights**:\n",
    "   - `class_weights`: I’m defining class weights to give the pneumonia class a little extra attention:\n",
    "     - `0: train_normal_count / total_train_images`: For normal cases, because they have a healthy representation.\n",
    "     - `1: train_pneumonia_count / total_train_images`: For pneumonia cases, making sure they don’t get overlooked—like that last slice of pizza everyone ignores!\n",
    "\n",
    "3. **Loading VGG16**:\n",
    "   - `base_model = VGG16(weights='imagenet', include_top=False, input_shape=(224, 224, 3))`: Loading VGG16 with ImageNet weights, but skipping the top layers. This model is like a seasoned chef who’s ready to cook but needs a little help with the final dish.\n",
    "\n",
    "4. **Freezing Layers**:\n",
    "   - `for layer in base_model.layers: layer.trainable = False`: I’m freezing the base model layers so they don't get updated during the initial training. Gotta respect the expertise!\n",
    "\n",
    "5. **Creating the Model**:\n",
    "   - `model = Sequential([...])`: I’m layering on my architecture:\n",
    "     - `base_model`: The star of the show!\n",
    "     - `Flatten()`: Turning that multi-dimensional output into a flat array, ready for some dense action.\n",
    "     - `Dense(256, activation='relu')`: A dense layer to add complexity and learn non-linear relationships.\n",
    "     - `Dropout(0.5)`: Adding dropout to help with overfitting. It’s like giving my model a little vacation during training!\n",
    "     - `Dense(1, activation='sigmoid')`: The final output layer for binary classification—normal or pneumonia, let’s get to the point!\n",
    "\n",
    "6. **Compiling the Model**:\n",
    "   - `model.compile(...)`: I’m setting up the optimizer (Adam for smooth sailing), loss function (binary cross-entropy for my binary classification), and metrics (accuracy to track performance).\n",
    "\n",
    "7. **Model Summary**:\n",
    "   - `model.summary()`: I print out the model summary because I like to show off the architecture and see what I’ve built!\n",
    "\n",
    "And there you have it! A well-structured VGG16 model ready to tackle pneumonia detection like a pro."
   ]
  },
  {
   "cell_type": "code",
   "execution_count": 5,
   "id": "2baaff9f",
   "metadata": {
    "scrolled": true
   },
   "outputs": [
    {
     "data": {
      "text/html": [
       "<pre style=\"white-space:pre;overflow-x:auto;line-height:normal;font-family:Menlo,'DejaVu Sans Mono',consolas,'Courier New',monospace\"><span style=\"font-weight: bold\">Model: \"sequential\"</span>\n",
       "</pre>\n"
      ],
      "text/plain": [
       "\u001b[1mModel: \"sequential\"\u001b[0m\n"
      ]
     },
     "metadata": {},
     "output_type": "display_data"
    },
    {
     "data": {
      "text/html": [
       "<pre style=\"white-space:pre;overflow-x:auto;line-height:normal;font-family:Menlo,'DejaVu Sans Mono',consolas,'Courier New',monospace\">┏━━━━━━━━━━━━━━━━━━━━━━━━━━━━━━━━━━━━━━┳━━━━━━━━━━━━━━━━━━━━━━━━━━━━━┳━━━━━━━━━━━━━━━━━┓\n",
       "┃<span style=\"font-weight: bold\"> Layer (type)                         </span>┃<span style=\"font-weight: bold\"> Output Shape                </span>┃<span style=\"font-weight: bold\">         Param # </span>┃\n",
       "┡━━━━━━━━━━━━━━━━━━━━━━━━━━━━━━━━━━━━━━╇━━━━━━━━━━━━━━━━━━━━━━━━━━━━━╇━━━━━━━━━━━━━━━━━┩\n",
       "│ vgg16 (<span style=\"color: #0087ff; text-decoration-color: #0087ff\">Functional</span>)                   │ (<span style=\"color: #00d7ff; text-decoration-color: #00d7ff\">None</span>, <span style=\"color: #00af00; text-decoration-color: #00af00\">7</span>, <span style=\"color: #00af00; text-decoration-color: #00af00\">7</span>, <span style=\"color: #00af00; text-decoration-color: #00af00\">512</span>)           │      <span style=\"color: #00af00; text-decoration-color: #00af00\">14,714,688</span> │\n",
       "├──────────────────────────────────────┼─────────────────────────────┼─────────────────┤\n",
       "│ flatten (<span style=\"color: #0087ff; text-decoration-color: #0087ff\">Flatten</span>)                    │ (<span style=\"color: #00d7ff; text-decoration-color: #00d7ff\">None</span>, <span style=\"color: #00af00; text-decoration-color: #00af00\">25088</span>)               │               <span style=\"color: #00af00; text-decoration-color: #00af00\">0</span> │\n",
       "├──────────────────────────────────────┼─────────────────────────────┼─────────────────┤\n",
       "│ dense (<span style=\"color: #0087ff; text-decoration-color: #0087ff\">Dense</span>)                        │ (<span style=\"color: #00d7ff; text-decoration-color: #00d7ff\">None</span>, <span style=\"color: #00af00; text-decoration-color: #00af00\">256</span>)                 │       <span style=\"color: #00af00; text-decoration-color: #00af00\">6,422,784</span> │\n",
       "├──────────────────────────────────────┼─────────────────────────────┼─────────────────┤\n",
       "│ dropout (<span style=\"color: #0087ff; text-decoration-color: #0087ff\">Dropout</span>)                    │ (<span style=\"color: #00d7ff; text-decoration-color: #00d7ff\">None</span>, <span style=\"color: #00af00; text-decoration-color: #00af00\">256</span>)                 │               <span style=\"color: #00af00; text-decoration-color: #00af00\">0</span> │\n",
       "├──────────────────────────────────────┼─────────────────────────────┼─────────────────┤\n",
       "│ dense_1 (<span style=\"color: #0087ff; text-decoration-color: #0087ff\">Dense</span>)                      │ (<span style=\"color: #00d7ff; text-decoration-color: #00d7ff\">None</span>, <span style=\"color: #00af00; text-decoration-color: #00af00\">1</span>)                   │             <span style=\"color: #00af00; text-decoration-color: #00af00\">257</span> │\n",
       "└──────────────────────────────────────┴─────────────────────────────┴─────────────────┘\n",
       "</pre>\n"
      ],
      "text/plain": [
       "┏━━━━━━━━━━━━━━━━━━━━━━━━━━━━━━━━━━━━━━┳━━━━━━━━━━━━━━━━━━━━━━━━━━━━━┳━━━━━━━━━━━━━━━━━┓\n",
       "┃\u001b[1m \u001b[0m\u001b[1mLayer (type)                        \u001b[0m\u001b[1m \u001b[0m┃\u001b[1m \u001b[0m\u001b[1mOutput Shape               \u001b[0m\u001b[1m \u001b[0m┃\u001b[1m \u001b[0m\u001b[1m        Param #\u001b[0m\u001b[1m \u001b[0m┃\n",
       "┡━━━━━━━━━━━━━━━━━━━━━━━━━━━━━━━━━━━━━━╇━━━━━━━━━━━━━━━━━━━━━━━━━━━━━╇━━━━━━━━━━━━━━━━━┩\n",
       "│ vgg16 (\u001b[38;5;33mFunctional\u001b[0m)                   │ (\u001b[38;5;45mNone\u001b[0m, \u001b[38;5;34m7\u001b[0m, \u001b[38;5;34m7\u001b[0m, \u001b[38;5;34m512\u001b[0m)           │      \u001b[38;5;34m14,714,688\u001b[0m │\n",
       "├──────────────────────────────────────┼─────────────────────────────┼─────────────────┤\n",
       "│ flatten (\u001b[38;5;33mFlatten\u001b[0m)                    │ (\u001b[38;5;45mNone\u001b[0m, \u001b[38;5;34m25088\u001b[0m)               │               \u001b[38;5;34m0\u001b[0m │\n",
       "├──────────────────────────────────────┼─────────────────────────────┼─────────────────┤\n",
       "│ dense (\u001b[38;5;33mDense\u001b[0m)                        │ (\u001b[38;5;45mNone\u001b[0m, \u001b[38;5;34m256\u001b[0m)                 │       \u001b[38;5;34m6,422,784\u001b[0m │\n",
       "├──────────────────────────────────────┼─────────────────────────────┼─────────────────┤\n",
       "│ dropout (\u001b[38;5;33mDropout\u001b[0m)                    │ (\u001b[38;5;45mNone\u001b[0m, \u001b[38;5;34m256\u001b[0m)                 │               \u001b[38;5;34m0\u001b[0m │\n",
       "├──────────────────────────────────────┼─────────────────────────────┼─────────────────┤\n",
       "│ dense_1 (\u001b[38;5;33mDense\u001b[0m)                      │ (\u001b[38;5;45mNone\u001b[0m, \u001b[38;5;34m1\u001b[0m)                   │             \u001b[38;5;34m257\u001b[0m │\n",
       "└──────────────────────────────────────┴─────────────────────────────┴─────────────────┘\n"
      ]
     },
     "metadata": {},
     "output_type": "display_data"
    },
    {
     "data": {
      "text/html": [
       "<pre style=\"white-space:pre;overflow-x:auto;line-height:normal;font-family:Menlo,'DejaVu Sans Mono',consolas,'Courier New',monospace\"><span style=\"font-weight: bold\"> Total params: </span><span style=\"color: #00af00; text-decoration-color: #00af00\">21,137,729</span> (80.63 MB)\n",
       "</pre>\n"
      ],
      "text/plain": [
       "\u001b[1m Total params: \u001b[0m\u001b[38;5;34m21,137,729\u001b[0m (80.63 MB)\n"
      ]
     },
     "metadata": {},
     "output_type": "display_data"
    },
    {
     "data": {
      "text/html": [
       "<pre style=\"white-space:pre;overflow-x:auto;line-height:normal;font-family:Menlo,'DejaVu Sans Mono',consolas,'Courier New',monospace\"><span style=\"font-weight: bold\"> Trainable params: </span><span style=\"color: #00af00; text-decoration-color: #00af00\">6,423,041</span> (24.50 MB)\n",
       "</pre>\n"
      ],
      "text/plain": [
       "\u001b[1m Trainable params: \u001b[0m\u001b[38;5;34m6,423,041\u001b[0m (24.50 MB)\n"
      ]
     },
     "metadata": {},
     "output_type": "display_data"
    },
    {
     "data": {
      "text/html": [
       "<pre style=\"white-space:pre;overflow-x:auto;line-height:normal;font-family:Menlo,'DejaVu Sans Mono',consolas,'Courier New',monospace\"><span style=\"font-weight: bold\"> Non-trainable params: </span><span style=\"color: #00af00; text-decoration-color: #00af00\">14,714,688</span> (56.13 MB)\n",
       "</pre>\n"
      ],
      "text/plain": [
       "\u001b[1m Non-trainable params: \u001b[0m\u001b[38;5;34m14,714,688\u001b[0m (56.13 MB)\n"
      ]
     },
     "metadata": {},
     "output_type": "display_data"
    }
   ],
   "source": [
    "import tensorflow as tf\n",
    "from tensorflow.keras.applications import VGG16\n",
    "from tensorflow.keras.models import Sequential\n",
    "from tensorflow.keras.layers import Flatten, Dense, Dropout\n",
    "from tensorflow.keras.callbacks import EarlyStopping, ReduceLROnPlateau\n",
    "\n",
    "# Define class weights correctly\n",
    "class_weights = {0: train_normal_count / total_train_images,  # Normal\n",
    "                 1: train_pneumonia_count / total_train_images}  # Pneumonia\n",
    "\n",
    "# Load the VGG16 model with pre-trained weights, excluding the top layers\n",
    "base_model = VGG16(weights='imagenet', include_top=False, input_shape=(224, 224, 3))\n",
    "\n",
    "# Freeze the base model layers to prevent them from being trained initially\n",
    "for layer in base_model.layers:\n",
    "    layer.trainable = False\n",
    "\n",
    "# Create the model\n",
    "model = Sequential([\n",
    "    base_model,\n",
    "    Flatten(),\n",
    "    Dense(256, activation='relu'),\n",
    "    Dropout(0.5),  # Dropout layer to reduce overfitting\n",
    "    Dense(1, activation='sigmoid')  # Output layer for binary classification\n",
    "])\n",
    "\n",
    "# Compile the model\n",
    "model.compile(optimizer='adam', loss='binary_crossentropy', metrics=['accuracy'])\n",
    "\n",
    "# Print the model summary\n",
    "model.summary()"
   ]
  },
  {
   "cell_type": "markdown",
   "id": "f9d83a09",
   "metadata": {},
   "source": [
    "### Training with Style: Early Stopping and Learning Rate Reduction\n",
    "\n",
    "In this block, I'm giving my model a little extra guidance during training to ensure it performs at its best. Let’s dive in:\n",
    "\n",
    "1. **Callbacks Defined**:\n",
    "   - `early_stopping`: This is my safety net. By monitoring `val_loss`, I’m saying, “If this loss doesn’t improve for 5 epochs (patience), just stop training and restore the best weights.” It’s like telling my model, “Don’t push it if you’re not improving!” This helps prevent overfitting—no one likes to see a model that's all talk and no results.\n",
    "   - `reduce_lr`: This callback is my model’s personal coach for adjusting learning rates. If the `val_loss` plateaus, it reduces the learning rate by a factor of 0.2 (that’s a big cut!) after 3 epochs of no improvement, but it won't drop below `1e-6`. It’s like saying, “If you’re not learning, let’s slow down and reassess.”\n",
    "\n",
    "2. **Training the Model**:\n",
    "   - `history = model.fit(...)`: Here’s where the magic happens! I’m training the model with the following specifications:\n",
    "     - `custom_train_gen.flow()`: Using my custom data generator, because I like to keep things interesting.\n",
    "     - `steps_per_epoch=train_steps`: Defining how many batches to run through in each epoch. It’s like saying, “Let’s have a productive day!”\n",
    "     - `validation_data=test_gen`: I’ll also validate against my test data to see how well I’m doing. Gotta keep my eye on the competition!\n",
    "     - `validation_steps=test_steps`: Setting the number of validation batches. It’s just the right amount of pressure to keep me sharp!\n",
    "     - `epochs=10`: I’m starting with 10 epochs for training. Adjusting this is totally my call based on how eager I am for results!\n",
    "     - `callbacks=[early_stopping, reduce_lr]`: I’m employing my trusty callbacks to keep things on track.\n",
    "\n",
    "And there it is! With these strategies in place, I’m all set to train my model effectively and avoid the pitfalls of overfitting and learning rate mishaps. Let’s get to it!"
   ]
  },
  {
   "cell_type": "code",
   "execution_count": 6,
   "id": "42c61e8b",
   "metadata": {},
   "outputs": [
    {
     "name": "stdout",
     "output_type": "stream",
     "text": [
      "Epoch 1/10\n",
      "\u001b[1m163/163\u001b[0m \u001b[32m━━━━━━━━━━━━━━━━━━━━\u001b[0m\u001b[37m\u001b[0m \u001b[1m0s\u001b[0m 15s/step - accuracy: 0.8575 - loss: 0.4039 "
     ]
    },
    {
     "name": "stderr",
     "output_type": "stream",
     "text": [
      "D:\\Anaconda3\\Lib\\site-packages\\keras\\src\\trainers\\data_adapters\\py_dataset_adapter.py:121: UserWarning: Your `PyDataset` class should call `super().__init__(**kwargs)` in its constructor. `**kwargs` can include `workers`, `use_multiprocessing`, `max_queue_size`. Do not pass these arguments to `fit()`, as they will be ignored.\n",
      "  self._warn_if_super_not_called()\n"
     ]
    },
    {
     "name": "stdout",
     "output_type": "stream",
     "text": [
      "\u001b[1m163/163\u001b[0m \u001b[32m━━━━━━━━━━━━━━━━━━━━\u001b[0m\u001b[37m\u001b[0m \u001b[1m2809s\u001b[0m 17s/step - accuracy: 0.8578 - loss: 0.4031 - val_accuracy: 0.8990 - val_loss: 0.2599 - learning_rate: 0.0010\n",
      "Epoch 2/10\n",
      "\u001b[1m163/163\u001b[0m \u001b[32m━━━━━━━━━━━━━━━━━━━━\u001b[0m\u001b[37m\u001b[0m \u001b[1m0s\u001b[0m 15s/step - accuracy: 0.9368 - loss: 0.1724 "
     ]
    },
    {
     "name": "stderr",
     "output_type": "stream",
     "text": [
      "D:\\Anaconda3\\Lib\\contextlib.py:155: UserWarning: Your input ran out of data; interrupting training. Make sure that your dataset or generator can generate at least `steps_per_epoch * epochs` batches. You may need to use the `.repeat()` function when building your dataset.\n",
      "  self.gen.throw(typ, value, traceback)\n"
     ]
    },
    {
     "name": "stdout",
     "output_type": "stream",
     "text": [
      "\u001b[1m163/163\u001b[0m \u001b[32m━━━━━━━━━━━━━━━━━━━━\u001b[0m\u001b[37m\u001b[0m \u001b[1m2468s\u001b[0m 15s/step - accuracy: 0.9368 - loss: 0.1724 - learning_rate: 0.0010\n",
      "Epoch 3/10\n"
     ]
    },
    {
     "name": "stderr",
     "output_type": "stream",
     "text": [
      "D:\\Anaconda3\\Lib\\site-packages\\keras\\src\\callbacks\\early_stopping.py:155: UserWarning: Early stopping conditioned on metric `val_loss` which is not available. Available metrics are: accuracy,loss\n",
      "  current = self.get_monitor_value(logs)\n",
      "D:\\Anaconda3\\Lib\\site-packages\\keras\\src\\callbacks\\callback_list.py:151: UserWarning: Learning rate reduction is conditioned on metric `val_loss` which is not available. Available metrics are: accuracy,loss,learning_rate.\n",
      "  callback.on_epoch_end(epoch, logs)\n"
     ]
    },
    {
     "name": "stdout",
     "output_type": "stream",
     "text": [
      "\u001b[1m163/163\u001b[0m \u001b[32m━━━━━━━━━━━━━━━━━━━━\u001b[0m\u001b[37m\u001b[0m \u001b[1m2290s\u001b[0m 14s/step - accuracy: 0.9360 - loss: 0.1743 - val_accuracy: 0.9038 - val_loss: 0.2706 - learning_rate: 0.0010\n",
      "Epoch 4/10\n",
      "\u001b[1m163/163\u001b[0m \u001b[32m━━━━━━━━━━━━━━━━━━━━\u001b[0m\u001b[37m\u001b[0m \u001b[1m1206s\u001b[0m 7s/step - accuracy: 0.9353 - loss: 0.1652 - learning_rate: 0.0010\n",
      "Epoch 5/10\n",
      "\u001b[1m163/163\u001b[0m \u001b[32m━━━━━━━━━━━━━━━━━━━━\u001b[0m\u001b[37m\u001b[0m \u001b[1m1360s\u001b[0m 8s/step - accuracy: 0.9356 - loss: 0.1679 - val_accuracy: 0.9103 - val_loss: 0.2306 - learning_rate: 0.0010\n",
      "Epoch 6/10\n",
      "\u001b[1m163/163\u001b[0m \u001b[32m━━━━━━━━━━━━━━━━━━━━\u001b[0m\u001b[37m\u001b[0m \u001b[1m1166s\u001b[0m 7s/step - accuracy: 0.9411 - loss: 0.1557 - learning_rate: 0.0010\n",
      "Epoch 7/10\n",
      "\u001b[1m163/163\u001b[0m \u001b[32m━━━━━━━━━━━━━━━━━━━━\u001b[0m\u001b[37m\u001b[0m \u001b[1m1131s\u001b[0m 7s/step - accuracy: 0.9356 - loss: 0.1600 - val_accuracy: 0.9167 - val_loss: 0.2814 - learning_rate: 0.0010\n",
      "Epoch 8/10\n",
      "\u001b[1m163/163\u001b[0m \u001b[32m━━━━━━━━━━━━━━━━━━━━\u001b[0m\u001b[37m\u001b[0m \u001b[1m946s\u001b[0m 6s/step - accuracy: 0.9460 - loss: 0.1548 - learning_rate: 0.0010\n",
      "Epoch 9/10\n",
      "\u001b[1m163/163\u001b[0m \u001b[32m━━━━━━━━━━━━━━━━━━━━\u001b[0m\u001b[37m\u001b[0m \u001b[1m1243s\u001b[0m 8s/step - accuracy: 0.9474 - loss: 0.1379 - val_accuracy: 0.9135 - val_loss: 0.2610 - learning_rate: 0.0010\n",
      "Epoch 10/10\n",
      "\u001b[1m163/163\u001b[0m \u001b[32m━━━━━━━━━━━━━━━━━━━━\u001b[0m\u001b[37m\u001b[0m \u001b[1m1044s\u001b[0m 6s/step - accuracy: 0.9496 - loss: 0.1338 - learning_rate: 0.0010\n"
     ]
    }
   ],
   "source": [
    "# Define EarlyStopping and ReduceLROnPlateau callbacks\n",
    "early_stopping = EarlyStopping(monitor='val_loss', patience=5, restore_best_weights=True)\n",
    "reduce_lr = ReduceLROnPlateau(monitor='val_loss', factor=0.2, patience=3, min_lr=1e-6)\n",
    "\n",
    "# Training the model\n",
    "history = model.fit(\n",
    "    custom_train_gen.flow(),\n",
    "    steps_per_epoch=train_steps,\n",
    "    validation_data=test_gen,\n",
    "    validation_steps=test_steps,\n",
    "    epochs=10,  # Adjust epochs based on your requirements\n",
    "    callbacks=[early_stopping, reduce_lr]\n",
    ")"
   ]
  },
  {
   "cell_type": "markdown",
   "id": "8cc50097",
   "metadata": {},
   "source": [
    "### Evaluating Model Performance\n",
    "\n",
    "Now it’s time to see how well my model performs on the test data. Let’s break it down:\n",
    "\n",
    "1. **Predictions**:\n",
    "   - I use the model to predict outcomes on the test data with `model.predict()`. This gives me the probabilities of each image being classified as pneumonia.\n",
    "   - I convert these probabilities into class labels (0 for Normal and 1 for Pneumonia) using a simple rule: if the predicted probability is greater than **0.5**, I call it pneumonia; otherwise, it’s normal.\n",
    "\n",
    "2. **Classification Report**:\n",
    "   - I print a classification report that provides a comprehensive overview of how well my model performed, showing metrics like precision, recall, and F1 score. These metrics help me understand not just how many predictions were correct, but also how well the model identifies each class.\n",
    "\n",
    "3. **Confusion Matrix**:\n",
    "   - I create a confusion matrix that visually represents the number of correct and incorrect predictions. This matrix helps me see how many instances of each class were correctly identified versus misclassified.\n",
    "\n",
    "4. **Performance Metrics**:\n",
    "   - I calculate and print several important metrics:\n",
    "     - **Accuracy**: The overall correctness of the model.\n",
    "     - **Precision**: The proportion of true positive results (correct pneumonia predictions) among all positive predictions.\n",
    "     - **Recall**: The proportion of true positives among all actual positives (how well the model captures pneumonia cases).\n",
    "     - **F1 Score**: The harmonic mean of precision and recall, providing a balance between the two.\n",
    "\n",
    "5. **ROC Curve and AUC**:\n",
    "   - I plot the Receiver Operating Characteristic (ROC) curve, which illustrates the trade-off between true positive rates and false positive rates at various threshold settings. \n",
    "   - I also calculate the Area Under the Curve (AUC), a single metric that summarizes the model’s ability to discriminate between classes. A higher AUC indicates better model performance.\n",
    "\n",
    "6. **Visualizing the Confusion Matrix**:\n",
    "   - To make the confusion matrix easier to interpret, I plot it using a heatmap. This provides a clear visual representation of how the model's predictions compare to the actual labels, making it easier to spot patterns in misclassifications.\n",
    "\n",
    "By going through these steps, I gain valuable insights into my model's strengths and weaknesses, allowing me to refine my approach for even better results in the future!"
   ]
  },
  {
   "cell_type": "code",
   "execution_count": 7,
   "id": "6c75c9fc",
   "metadata": {},
   "outputs": [
    {
     "name": "stdout",
     "output_type": "stream",
     "text": [
      "\u001b[1m20/20\u001b[0m \u001b[32m━━━━━━━━━━━━━━━━━━━━\u001b[0m\u001b[37m\u001b[0m \u001b[1m146s\u001b[0m 7s/step\n",
      "Accuracy: 0.91\n",
      "Precision: 0.89\n",
      "Recall: 0.97\n",
      "F1 Score: 0.93\n",
      "Confusion Matrix:\n",
      "[[189  45]\n",
      " [ 11 379]]\n"
     ]
    },
    {
     "data": {
      "image/png": "[encoded data removed]",
      "text/plain": [
       "<Figure size 800x600 with 2 Axes>"
      ]
     },
     "metadata": {},
     "output_type": "display_data"
    },
    {
     "data": {
      "image/png": "[encoded data removed]",
      "text/plain": [
       "<Figure size 640x480 with 1 Axes>"
      ]
     },
     "metadata": {},
     "output_type": "display_data"
    },
    {
     "name": "stdout",
     "output_type": "stream",
     "text": [
      "              precision    recall  f1-score   support\n",
      "\n",
      "      Normal       0.94      0.81      0.87       234\n",
      "   Pneumonia       0.89      0.97      0.93       390\n",
      "\n",
      "    accuracy                           0.91       624\n",
      "   macro avg       0.92      0.89      0.90       624\n",
      "weighted avg       0.91      0.91      0.91       624\n",
      "\n"
     ]
    },
    {
     "data": {
      "image/png": "[encoded data removed]",
      "text/plain": [
       "<Figure size 800x500 with 1 Axes>"
      ]
     },
     "metadata": {},
     "output_type": "display_data"
    }
   ],
   "source": [
    "from sklearn.metrics import accuracy_score, precision_score, recall_score, f1_score, confusion_matrix, roc_auc_score, roc_curve, classification_report\n",
    "import matplotlib.pyplot as plt\n",
    "import seaborn as sns\n",
    "\n",
    "# Assuming `y_true` are true labels and `y_pred` are predicted labels\n",
    "y_true = test_gen.classes  # Actual labels from the test set\n",
    "y_pred = model.predict(test_gen)\n",
    "y_pred_classes = (y_pred > 0.5).astype(int)  # Convert probabilities to binary values\n",
    "\n",
    "# 1. Accuracy, Precision, Recall, F1 Score\n",
    "accuracy = accuracy_score(y_true, y_pred_classes)\n",
    "precision = precision_score(y_true, y_pred_classes)\n",
    "recall = recall_score(y_true, y_pred_classes)\n",
    "f1 = f1_score(y_true, y_pred_classes)\n",
    "\n",
    "# Print metrics\n",
    "print(f'Accuracy: {accuracy:.2f}')\n",
    "print(f'Precision: {precision:.2f}')\n",
    "print(f'Recall: {recall:.2f}')\n",
    "print(f'F1 Score: {f1:.2f}')\n",
    "\n",
    "# 2. Confusion Matrix\n",
    "cm = confusion_matrix(y_true, y_pred_classes)\n",
    "print(f'Confusion Matrix:\\n{cm}')\n",
    "\n",
    "# Plot Confusion Matrix as a heatmap\n",
    "plt.figure(figsize=(8, 6))\n",
    "sns.heatmap(cm, annot=True, fmt='d', cmap='Blues', xticklabels=['Normal', 'Pneumonia'], yticklabels=['Normal', 'Pneumonia'])\n",
    "plt.xlabel('Predicted Labels')\n",
    "plt.ylabel('True Labels')\n",
    "plt.title('Confusion Matrix')\n",
    "plt.show()\n",
    "\n",
    "# 3. ROC Curve and AUC\n",
    "fpr, tpr, _ = roc_curve(y_true, y_pred)\n",
    "roc_auc = roc_auc_score(y_true, y_pred)\n",
    "\n",
    "plt.figure()\n",
    "plt.plot(fpr, tpr, color='blue', label=f'ROC Curve (area = {roc_auc:.2f})')\n",
    "plt.plot([0, 1], [0, 1], color='grey', linestyle='--')\n",
    "plt.xlabel('False Positive Rate')\n",
    "plt.ylabel('True Positive Rate')\n",
    "plt.title('Receiver Operating Characteristic (ROC) Curve')\n",
    "plt.legend(loc=\"lower right\")\n",
    "plt.show()\n",
    "\n",
    "# 4. Classification Report\n",
    "print(classification_report(y_true, y_pred_classes, target_names=['Normal', 'Pneumonia']))\n",
    "\n",
    "# 5. Bar Plot for Accuracy, Precision, Recall, F1 Score\n",
    "metrics = [accuracy, precision, recall, f1]\n",
    "metrics_names = ['Accuracy', 'Precision', 'Recall', 'F1 Score']\n",
    "\n",
    "plt.figure(figsize=(8, 5))\n",
    "plt.bar(metrics_names, metrics, color=['blue', 'orange', 'green', 'red'])\n",
    "plt.ylim(0, 1)  # Set y-axis limits\n",
    "plt.ylabel('Score')\n",
    "plt.title('Performance Metrics')\n",
    "plt.show()\n"
   ]
  },
  {
   "cell_type": "code",
   "execution_count": null,
   "id": "75ab3898",
   "metadata": {},
   "outputs": [],
   "source": []
  }
 ],
 "metadata": {
  "kernelspec": {
   "display_name": "Python 3 (ipykernel)",
   "language": "python",
   "name": "python3"
  },
  "language_info": {
   "codemirror_mode": {
    "name": "ipython",
    "version": 3
   },
   "file_extension": ".py",
   "mimetype": "text/x-python",
   "name": "python",
   "nbconvert_exporter": "python",
   "pygments_lexer": "ipython3",
   "version": "3.11.5"
  }
 },
 "nbformat": 4,
 "nbformat_minor": 5
}
